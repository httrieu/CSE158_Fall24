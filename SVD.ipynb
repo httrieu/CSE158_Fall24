{
 "cells": [
  {
   "cell_type": "code",
   "execution_count": 32,
   "metadata": {},
   "outputs": [],
   "source": [
    "import pandas as pd\n",
    "import numpy as np\n",
    "import seaborn as sns\n",
    "import matplotlib.pyplot as plt\n",
    "from sklearn.metrics import mean_squared_error, mean_absolute_error, r2_score, root_mean_squared_error, explained_variance_score, max_error, d2_absolute_error_score\n",
    "from sklearn.model_selection import train_test_split\n",
    "from sklearn.metrics import r2_score\n",
    "from sklearn.ensemble import RandomForestRegressor\n",
    "from surprise import SVD, Reader, Dataset\n",
    "from collections import defaultdict\n",
    "import gzip\n",
    "from surprise import SVDpp\n",
    "from surprise.model_selection import cross_validate\n",
    "from surprise import accuracy\n",
    "from surprise.model_selection import GridSearchCV"
   ]
  },
  {
   "cell_type": "markdown",
   "metadata": {},
   "source": [
    "### TRAIN DATASET"
   ]
  },
  {
   "cell_type": "code",
   "execution_count": 33,
   "metadata": {},
   "outputs": [],
   "source": [
    "df_train = pd.read_csv('interactions_train.csv')"
   ]
  },
  {
   "cell_type": "code",
   "execution_count": 34,
   "metadata": {},
   "outputs": [
    {
     "data": {
      "text/html": [
       "<div>\n",
       "<style scoped>\n",
       "    .dataframe tbody tr th:only-of-type {\n",
       "        vertical-align: middle;\n",
       "    }\n",
       "\n",
       "    .dataframe tbody tr th {\n",
       "        vertical-align: top;\n",
       "    }\n",
       "\n",
       "    .dataframe thead th {\n",
       "        text-align: right;\n",
       "    }\n",
       "</style>\n",
       "<table border=\"1\" class=\"dataframe\">\n",
       "  <thead>\n",
       "    <tr style=\"text-align: right;\">\n",
       "      <th></th>\n",
       "      <th>user_id</th>\n",
       "      <th>recipe_id</th>\n",
       "      <th>date</th>\n",
       "      <th>rating</th>\n",
       "      <th>u</th>\n",
       "      <th>i</th>\n",
       "    </tr>\n",
       "  </thead>\n",
       "  <tbody>\n",
       "    <tr>\n",
       "      <th>0</th>\n",
       "      <td>2046</td>\n",
       "      <td>4684</td>\n",
       "      <td>2000-02-25</td>\n",
       "      <td>5.0</td>\n",
       "      <td>22095</td>\n",
       "      <td>44367</td>\n",
       "    </tr>\n",
       "    <tr>\n",
       "      <th>1</th>\n",
       "      <td>2046</td>\n",
       "      <td>517</td>\n",
       "      <td>2000-02-25</td>\n",
       "      <td>5.0</td>\n",
       "      <td>22095</td>\n",
       "      <td>87844</td>\n",
       "    </tr>\n",
       "    <tr>\n",
       "      <th>2</th>\n",
       "      <td>1773</td>\n",
       "      <td>7435</td>\n",
       "      <td>2000-03-13</td>\n",
       "      <td>5.0</td>\n",
       "      <td>24732</td>\n",
       "      <td>138181</td>\n",
       "    </tr>\n",
       "    <tr>\n",
       "      <th>3</th>\n",
       "      <td>1773</td>\n",
       "      <td>278</td>\n",
       "      <td>2000-03-13</td>\n",
       "      <td>4.0</td>\n",
       "      <td>24732</td>\n",
       "      <td>93054</td>\n",
       "    </tr>\n",
       "    <tr>\n",
       "      <th>4</th>\n",
       "      <td>2046</td>\n",
       "      <td>3431</td>\n",
       "      <td>2000-04-07</td>\n",
       "      <td>5.0</td>\n",
       "      <td>22095</td>\n",
       "      <td>101723</td>\n",
       "    </tr>\n",
       "  </tbody>\n",
       "</table>\n",
       "</div>"
      ],
      "text/plain": [
       "   user_id  recipe_id        date  rating      u       i\n",
       "0     2046       4684  2000-02-25     5.0  22095   44367\n",
       "1     2046        517  2000-02-25     5.0  22095   87844\n",
       "2     1773       7435  2000-03-13     5.0  24732  138181\n",
       "3     1773        278  2000-03-13     4.0  24732   93054\n",
       "4     2046       3431  2000-04-07     5.0  22095  101723"
      ]
     },
     "execution_count": 34,
     "metadata": {},
     "output_type": "execute_result"
    }
   ],
   "source": [
    "df_train.head()"
   ]
  },
  {
   "cell_type": "code",
   "execution_count": 35,
   "metadata": {},
   "outputs": [
    {
     "data": {
      "text/plain": [
       "<Axes: xlabel='rating', ylabel='Count'>"
      ]
     },
     "execution_count": 35,
     "metadata": {},
     "output_type": "execute_result"
    },
    {
     "data": {
      "image/png": "[encoded data removed]",
      "text/plain": [
       "<Figure size 640x480 with 1 Axes>"
      ]
     },
     "metadata": {},
     "output_type": "display_data"
    }
   ],
   "source": [
    "sns.histplot(data=df_train['rating'])"
   ]
  },
  {
   "cell_type": "markdown",
   "metadata": {},
   "source": [
    "### TEST DATASET"
   ]
  },
  {
   "cell_type": "code",
   "execution_count": 36,
   "metadata": {},
   "outputs": [],
   "source": [
    "df_test = pd.read_csv('interactions_test.csv')"
   ]
  },
  {
   "cell_type": "markdown",
   "metadata": {},
   "source": [
    "### CODE"
   ]
  },
  {
   "cell_type": "code",
   "execution_count": 37,
   "metadata": {},
   "outputs": [
    {
     "data": {
      "text/html": [
       "<div>\n",
       "<style scoped>\n",
       "    .dataframe tbody tr th:only-of-type {\n",
       "        vertical-align: middle;\n",
       "    }\n",
       "\n",
       "    .dataframe tbody tr th {\n",
       "        vertical-align: top;\n",
       "    }\n",
       "\n",
       "    .dataframe thead th {\n",
       "        text-align: right;\n",
       "    }\n",
       "</style>\n",
       "<table border=\"1\" class=\"dataframe\">\n",
       "  <thead>\n",
       "    <tr style=\"text-align: right;\">\n",
       "      <th></th>\n",
       "      <th>user_id</th>\n",
       "      <th>recipe_id</th>\n",
       "      <th>date</th>\n",
       "      <th>rating</th>\n",
       "      <th>u</th>\n",
       "      <th>i</th>\n",
       "    </tr>\n",
       "  </thead>\n",
       "  <tbody>\n",
       "    <tr>\n",
       "      <th>0</th>\n",
       "      <td>2046</td>\n",
       "      <td>4684</td>\n",
       "      <td>2000-02-25</td>\n",
       "      <td>5.0</td>\n",
       "      <td>22095</td>\n",
       "      <td>44367</td>\n",
       "    </tr>\n",
       "    <tr>\n",
       "      <th>1</th>\n",
       "      <td>2046</td>\n",
       "      <td>517</td>\n",
       "      <td>2000-02-25</td>\n",
       "      <td>5.0</td>\n",
       "      <td>22095</td>\n",
       "      <td>87844</td>\n",
       "    </tr>\n",
       "    <tr>\n",
       "      <th>2</th>\n",
       "      <td>1773</td>\n",
       "      <td>7435</td>\n",
       "      <td>2000-03-13</td>\n",
       "      <td>5.0</td>\n",
       "      <td>24732</td>\n",
       "      <td>138181</td>\n",
       "    </tr>\n",
       "    <tr>\n",
       "      <th>3</th>\n",
       "      <td>1773</td>\n",
       "      <td>278</td>\n",
       "      <td>2000-03-13</td>\n",
       "      <td>4.0</td>\n",
       "      <td>24732</td>\n",
       "      <td>93054</td>\n",
       "    </tr>\n",
       "    <tr>\n",
       "      <th>4</th>\n",
       "      <td>2046</td>\n",
       "      <td>3431</td>\n",
       "      <td>2000-04-07</td>\n",
       "      <td>5.0</td>\n",
       "      <td>22095</td>\n",
       "      <td>101723</td>\n",
       "    </tr>\n",
       "  </tbody>\n",
       "</table>\n",
       "</div>"
      ],
      "text/plain": [
       "   user_id  recipe_id        date  rating      u       i\n",
       "0     2046       4684  2000-02-25     5.0  22095   44367\n",
       "1     2046        517  2000-02-25     5.0  22095   87844\n",
       "2     1773       7435  2000-03-13     5.0  24732  138181\n",
       "3     1773        278  2000-03-13     4.0  24732   93054\n",
       "4     2046       3431  2000-04-07     5.0  22095  101723"
      ]
     },
     "execution_count": 37,
     "metadata": {},
     "output_type": "execute_result"
    }
   ],
   "source": [
    "df_train.head()"
   ]
  },
  {
   "cell_type": "code",
   "execution_count": 38,
   "metadata": {},
   "outputs": [
    {
     "data": {
      "text/html": [
       "<div>\n",
       "<style scoped>\n",
       "    .dataframe tbody tr th:only-of-type {\n",
       "        vertical-align: middle;\n",
       "    }\n",
       "\n",
       "    .dataframe tbody tr th {\n",
       "        vertical-align: top;\n",
       "    }\n",
       "\n",
       "    .dataframe thead th {\n",
       "        text-align: right;\n",
       "    }\n",
       "</style>\n",
       "<table border=\"1\" class=\"dataframe\">\n",
       "  <thead>\n",
       "    <tr style=\"text-align: right;\">\n",
       "      <th></th>\n",
       "      <th>user_id</th>\n",
       "      <th>recipe_id</th>\n",
       "      <th>date</th>\n",
       "      <th>rating</th>\n",
       "      <th>u</th>\n",
       "      <th>i</th>\n",
       "    </tr>\n",
       "  </thead>\n",
       "  <tbody>\n",
       "    <tr>\n",
       "      <th>0</th>\n",
       "      <td>8937</td>\n",
       "      <td>44551</td>\n",
       "      <td>2005-12-23</td>\n",
       "      <td>4.0</td>\n",
       "      <td>2</td>\n",
       "      <td>173538</td>\n",
       "    </tr>\n",
       "    <tr>\n",
       "      <th>1</th>\n",
       "      <td>56680</td>\n",
       "      <td>126118</td>\n",
       "      <td>2006-10-07</td>\n",
       "      <td>4.0</td>\n",
       "      <td>16</td>\n",
       "      <td>177847</td>\n",
       "    </tr>\n",
       "    <tr>\n",
       "      <th>2</th>\n",
       "      <td>349752</td>\n",
       "      <td>219596</td>\n",
       "      <td>2008-04-12</td>\n",
       "      <td>0.0</td>\n",
       "      <td>26</td>\n",
       "      <td>89896</td>\n",
       "    </tr>\n",
       "    <tr>\n",
       "      <th>3</th>\n",
       "      <td>628951</td>\n",
       "      <td>82783</td>\n",
       "      <td>2007-11-13</td>\n",
       "      <td>2.0</td>\n",
       "      <td>45</td>\n",
       "      <td>172637</td>\n",
       "    </tr>\n",
       "    <tr>\n",
       "      <th>4</th>\n",
       "      <td>92816</td>\n",
       "      <td>435013</td>\n",
       "      <td>2013-07-31</td>\n",
       "      <td>3.0</td>\n",
       "      <td>52</td>\n",
       "      <td>177935</td>\n",
       "    </tr>\n",
       "  </tbody>\n",
       "</table>\n",
       "</div>"
      ],
      "text/plain": [
       "   user_id  recipe_id        date  rating   u       i\n",
       "0     8937      44551  2005-12-23     4.0   2  173538\n",
       "1    56680     126118  2006-10-07     4.0  16  177847\n",
       "2   349752     219596  2008-04-12     0.0  26   89896\n",
       "3   628951      82783  2007-11-13     2.0  45  172637\n",
       "4    92816     435013  2013-07-31     3.0  52  177935"
      ]
     },
     "execution_count": 38,
     "metadata": {},
     "output_type": "execute_result"
    }
   ],
   "source": [
    "df_test.head()"
   ]
  },
  {
   "cell_type": "code",
   "execution_count": 39,
   "metadata": {},
   "outputs": [],
   "source": [
    "df_balanced = pd.concat([\n",
    "    df_train[df_train['rating'] == 5.0].sample(n=25000, random_state=42),  # Sample 50k 5.0 ratings\n",
    "    df_train[df_train['rating'] == 4.0].sample(n=25000, random_state=42),  \n",
    "    df_train[(df_train['rating'] != 5.0) & (df_train['rating'] != 4.0)]  # Include all other ratings\n",
    "])"
   ]
  },
  {
   "cell_type": "markdown",
   "metadata": {},
   "source": [
    "### FIT THE DATA"
   ]
  },
  {
   "cell_type": "code",
   "execution_count": 40,
   "metadata": {},
   "outputs": [],
   "source": [
    "reader = Reader(rating_scale=(0, 5))\n",
    "\n",
    "data = Dataset.load_from_df(df_train[['u', 'i', 'rating']], reader=reader)\n",
    "\n",
    "trainset = data.build_full_trainset()"
   ]
  },
  {
   "cell_type": "markdown",
   "metadata": {},
   "source": [
    "### VALIDATE"
   ]
  },
  {
   "cell_type": "code",
   "execution_count": 41,
   "metadata": {},
   "outputs": [],
   "source": [
    "# Load DataFrame into a Dataset object\n",
    "reader = Reader(rating_scale=(0, 5))  # Adjust the rating scale as needed\n",
    "df_valid = pd.read_csv('interactions_validation.csv')\n",
    "validdata = Dataset.load_from_df(df_valid[['u', 'i', 'rating']], reader)"
   ]
  },
  {
   "cell_type": "code",
   "execution_count": 42,
   "metadata": {},
   "outputs": [],
   "source": [
    "validset = validdata.build_full_trainset()\n",
    "validset = validset.build_testset()"
   ]
  },
  {
   "cell_type": "code",
   "execution_count": 43,
   "metadata": {},
   "outputs": [
    {
     "data": {
      "text/plain": [
       "1.2773725369573081"
      ]
     },
     "execution_count": 43,
     "metadata": {},
     "output_type": "execute_result"
    }
   ],
   "source": [
    "algo = SVD(n_factors=100, n_epochs=200, biased=True, lr_all=0.005, reg_all=0.1, verbose=False)\n",
    "algo.fit(trainset)\n",
    "\n",
    "# The error of the testing data is calculated and saved\n",
    "predictions_test = algo.test(validset)\n",
    "error = accuracy.rmse(predictions_test, verbose = False)\n",
    "error"
   ]
  },
  {
   "cell_type": "code",
   "execution_count": 44,
   "metadata": {},
   "outputs": [
    {
     "name": "stdout",
     "output_type": "stream",
     "text": [
      "Evaluating RMSE, MAE, MSE of algorithm SVD on 5 split(s).\n",
      "\n",
      "                  Fold 1  Fold 2  Fold 3  Fold 4  Fold 5  Mean    Std     \n",
      "RMSE (testset)    1.2799  1.3356  1.3134  1.2980  1.2926  1.3039  0.0192  \n",
      "MAE (testset)     0.9162  0.9515  0.9325  0.9222  0.9323  0.9309  0.0120  \n",
      "MSE (testset)     1.6381  1.7838  1.7250  1.6847  1.6709  1.7005  0.0501  \n",
      "Fit time          0.52    0.54    0.53    0.55    0.55    0.54    0.01    \n",
      "Test time         0.01    0.01    0.01    0.01    0.01    0.01    0.00    \n"
     ]
    },
    {
     "data": {
      "text/plain": [
       "{'test_rmse': array([1.2798642 , 1.33559594, 1.31338536, 1.29795901, 1.29262418]),\n",
       " 'test_mae': array([0.91615064, 0.95151502, 0.93249028, 0.92224088, 0.93225376]),\n",
       " 'test_mse': array([1.63805237, 1.78381652, 1.72498111, 1.6846976 , 1.67087728]),\n",
       " 'fit_time': (0.5176346302032471,\n",
       "  0.5352671146392822,\n",
       "  0.5331270694732666,\n",
       "  0.5511243343353271,\n",
       "  0.5533795356750488),\n",
       " 'test_time': (0.006562709808349609,\n",
       "  0.00551152229309082,\n",
       "  0.005042314529418945,\n",
       "  0.006008625030517578,\n",
       "  0.00500178337097168)}"
      ]
     },
     "execution_count": 44,
     "metadata": {},
     "output_type": "execute_result"
    }
   ],
   "source": [
    "cross_validate(algo, validdata, measures=[\"RMSE\", \"MAE\", \"MSE\"], cv=5, verbose=True)"
   ]
  },
  {
   "cell_type": "markdown",
   "metadata": {},
   "source": [
    "### TEST"
   ]
  },
  {
   "cell_type": "code",
   "execution_count": 45,
   "metadata": {},
   "outputs": [],
   "source": [
    "# Load DataFrame into a Dataset object\n",
    "reader = Reader(rating_scale=(0, 5))  # Adjust the rating scale as needed\n",
    "df_test = pd.read_csv('interactions_test.csv')\n",
    "testdata = Dataset.load_from_df(df_test[['u', 'i', 'rating']], reader)"
   ]
  },
  {
   "cell_type": "code",
   "execution_count": 46,
   "metadata": {},
   "outputs": [],
   "source": [
    "testset = testdata.build_full_trainset()\n",
    "testset = testset.build_testset()"
   ]
  },
  {
   "cell_type": "code",
   "execution_count": 47,
   "metadata": {},
   "outputs": [
    {
     "data": {
      "text/plain": [
       "1.332020283056521"
      ]
     },
     "execution_count": 47,
     "metadata": {},
     "output_type": "execute_result"
    }
   ],
   "source": [
    "# The error of the testing data is calculated and saved\n",
    "predictions_test = algo.test(testset)\n",
    "error = accuracy.rmse(predictions_test, verbose = False)\n",
    "error"
   ]
  },
  {
   "cell_type": "code",
   "execution_count": 48,
   "metadata": {},
   "outputs": [
    {
     "name": "stdout",
     "output_type": "stream",
     "text": [
      "Evaluating RMSE, MAE, MSE of algorithm SVD on 5 split(s).\n",
      "\n",
      "                  Fold 1  Fold 2  Fold 3  Fold 4  Fold 5  Mean    Std     \n",
      "RMSE (testset)    1.2850  1.3481  1.3549  1.3339  1.3734  1.3391  0.0299  \n",
      "MAE (testset)     0.9278  0.9600  0.9652  0.9540  0.9807  0.9575  0.0173  \n",
      "MSE (testset)     1.6512  1.8174  1.8357  1.7793  1.8861  1.7940  0.0792  \n",
      "Fit time          1.14    1.07    1.06    1.01    1.05    1.06    0.04    \n",
      "Test time         0.01    0.01    0.01    0.01    0.01    0.01    0.00    \n"
     ]
    },
    {
     "data": {
      "text/plain": [
       "{'test_rmse': array([1.28500003, 1.34811913, 1.3548914 , 1.33388642, 1.37336021]),\n",
       " 'test_mae': array([0.9278183 , 0.95998189, 0.96518251, 0.95397927, 0.98073265]),\n",
       " 'test_mse': array([1.65122508, 1.81742518, 1.8357307 , 1.77925297, 1.88611826]),\n",
       " 'fit_time': (1.1366357803344727,\n",
       "  1.0665366649627686,\n",
       "  1.0551607608795166,\n",
       "  1.0123207569122314,\n",
       "  1.0481946468353271),\n",
       " 'test_time': (0.010577201843261719,\n",
       "  0.012072563171386719,\n",
       "  0.010069131851196289,\n",
       "  0.010068178176879883,\n",
       "  0.009558916091918945)}"
      ]
     },
     "execution_count": 48,
     "metadata": {},
     "output_type": "execute_result"
    }
   ],
   "source": [
    "cross_validate(algo, testdata, measures=[\"RMSE\", \"MAE\", \"MSE\"], cv=5, verbose=True)"
   ]
  },
  {
   "cell_type": "markdown",
   "metadata": {},
   "source": [
    "### PRECISION"
   ]
  },
  {
   "cell_type": "code",
   "execution_count": 49,
   "metadata": {},
   "outputs": [],
   "source": [
    "# Return precision and recall at k metrics for each user\n",
    "def precision_recall_at_k(predictions, k = 10, threshold = 3.5):\n",
    "    \n",
    "    # First map the predictions to each user.\n",
    "    user_est_true = defaultdict(list)\n",
    "    for uid, _, true_r, est, _ in predictions:\n",
    "        user_est_true[uid].append((est, true_r))\n",
    "    \n",
    "    precisions = dict()\n",
    "    recalls = dict()\n",
    "    for uid, user_ratings in user_est_true.items():\n",
    "        \n",
    "        # Sort user ratings by estimated value\n",
    "        user_ratings.sort(key=lambda x: x[0], reverse=True)\n",
    "        \n",
    "        # Number of relevant items\n",
    "        n_rel = sum((true_r >= threshold) for (_, true_r) in user_ratings)\n",
    "        \n",
    "        # Number of recommended items in top k\n",
    "        n_rec_k = sum((est >= threshold) for (est, _) in user_ratings[:k])\n",
    "        \n",
    "        # Number of relevant and recommended items in top k\n",
    "        n_rel_and_rec_k = sum(((true_r >= threshold) and (est >= threshold)) for (est, true_r) in user_ratings[:k])\n",
    "        \n",
    "        # Precision@K: Proportion of recommended items that are relevant\n",
    "        precisions[uid] = n_rel_and_rec_k / n_rec_k if n_rec_k != 0 else 1\n",
    "        \n",
    "        # Recall@K: Proportion of relevant items that are recommended\n",
    "        recalls[uid] = n_rel_and_rec_k / n_rel if n_rel != 0 else 1\n",
    "    \n",
    "    return precisions, recalls;"
   ]
  },
  {
   "cell_type": "code",
   "execution_count": 50,
   "metadata": {},
   "outputs": [],
   "source": [
    "# Returns the precision and recall of the model at k metrics\n",
    "def get_precision_vs_recall(algo, k_max = 10, verbose = False):\n",
    "    precision_list = []\n",
    "    recall_list = []\n",
    "    f1_score_list = []\n",
    "    \n",
    "    if algo:\n",
    "        for k_curr in range(1, k_max + 1):\n",
    "            algo.fit(trainset)\n",
    "            predictions = algo.test(testset)\n",
    "            \n",
    "            # Get precision and recall at k metrics for each user\n",
    "            precisions, recalls = precision_recall_at_k(predictions, k = k_curr, threshold = 4)\n",
    "            \n",
    "            # Precision and recall can then be averaged over all users\n",
    "            precision = sum(prec for prec in precisions.values()) / len(precisions)\n",
    "            recall = sum(rec for rec in recalls.values()) / len(recalls)\n",
    "            f1_score = 2 * (precision * recall) / (precision + recall)\n",
    "            \n",
    "            # Save measures\n",
    "            precision_list.append(precision)\n",
    "            recall_list.append(recall)\n",
    "            f1_score_list.append(f1_score)\n",
    "            \n",
    "            if verbose:\n",
    "                print('K =', k_curr, '- Precision:', precision, ', Recall:', recall, ', F1 score:', f1_score)\n",
    "    \n",
    "    return {'precision': precision_list, 'recall': recall_list, 'f1_score': f1_score_list};"
   ]
  },
  {
   "cell_type": "code",
   "execution_count": 51,
   "metadata": {},
   "outputs": [
    {
     "name": "stdout",
     "output_type": "stream",
     "text": [
      "K = 1 - Precision: 0.8706543556804496 , Recall: 0.9274989963869932 , F1 score: 0.8981781672459862\n",
      "K = 2 - Precision: 0.8700923323966279 , Recall: 0.9287033319951826 , F1 score: 0.8984429574033025\n",
      "K = 3 - Precision: 0.8702529104777198 , Recall: 0.9281413087113609 , F1 score: 0.8982654265924764\n",
      "K = 4 - Precision: 0.8710558008831795 , Recall: 0.927820152549177 , F1 score: 0.8985423642049563\n",
      "K = 5 - Precision: 0.8709755118426334 , Recall: 0.927739863508631 , F1 score: 0.8984619952097156\n",
      "K = 6 - Precision: 0.8703331995182657 , Recall: 0.9270172621437174 , F1 score: 0.8977813920877242\n",
      "K = 7 - Precision: 0.8706543556804496 , Recall: 0.927739863508631 , F1 score: 0.8982910915565512\n",
      "K = 8 - Precision: 0.8701726214371738 , Recall: 0.9273384183059012 , F1 score: 0.8978465050562227\n",
      "K = 9 - Precision: 0.8707346447209956 , Recall: 0.9276595744680851 , F1 score: 0.8982961815354599\n",
      "K = 10 - Precision: 0.8710558008831795 , Recall: 0.9287033319951826 , F1 score: 0.8989563212719252\n",
      "K = 11 - Precision: 0.8703331995182657 , Recall: 0.9280610196708149 , F1 score: 0.8982705882612289\n",
      "K = 12 - Precision: 0.8702529104777198 , Recall: 0.9270172621437174 , F1 score: 0.8977386736096271\n",
      "K = 13 - Precision: 0.8706543556804496 , Recall: 0.9282215977519068 , F1 score: 0.8985168494551821\n",
      "K = 14 - Precision: 0.8703331995182657 , Recall: 0.9271778402248093 , F1 score: 0.897856690015806\n",
      "K = 15 - Precision: 0.8707346447209956 , Recall: 0.9276595744680851 , F1 score: 0.8982961815354599\n",
      "K = 16 - Precision: 0.8709755118426334 , Recall: 0.9281413087113609 , F1 score: 0.8986502067922923\n",
      "K = 17 - Precision: 0.8696908871938981 , Recall: 0.9275792854275391 , F1 score: 0.8977028206165829\n",
      "K = 18 - Precision: 0.8708952228020875 , Recall: 0.9267763950220795 , F1 score: 0.8979672672447071\n",
      "K = 19 - Precision: 0.8706543556804496 , Recall: 0.9271778402248093 , F1 score: 0.8980275544299601\n",
      "K = 20 - Precision: 0.8705740666399037 , Recall: 0.9272581292653552 , F1 score: 0.8980224987159922\n"
     ]
    }
   ],
   "source": [
    "# Calculate the precision and recall of the model at k metrics\n",
    "k_max = 20\n",
    "metrics = get_precision_vs_recall(algo, k_max, True)"
   ]
  },
  {
   "cell_type": "code",
   "execution_count": 52,
   "metadata": {},
   "outputs": [
    {
     "data": {
      "image/png": "[encoded data removed]",
      "text/plain": [
       "<Figure size 1000x500 with 1 Axes>"
      ]
     },
     "metadata": {},
     "output_type": "display_data"
    }
   ],
   "source": [
    "# Get data\n",
    "c1 = metrics['precision']\n",
    "c2 = metrics['recall']\n",
    "c3 = metrics['f1_score']\n",
    "x = np.arange(len(c1))\n",
    "\n",
    "# Set up the matplotlib figure\n",
    "fig, ax1 = plt.subplots(figsize = (10, 5))\n",
    "plt.xticks(np.arange(min(x), max(x) + 1, 1.0))\n",
    "plt.ylim(0, 1)\n",
    "ax1.plot(x, c1, marker = 'o')\n",
    "ax1.plot(x, c2, marker = 'o')\n",
    "ax1.plot(x, c3, marker = 'o')\n",
    "ax1.axvline(x = 10, color = \"#8b0000\", linestyle = \"--\")\n",
    "\n",
    "# Chart setup\n",
    "plt.title(\"Model's metrics\", fontsize = 12)\n",
    "plt.xlabel(\"k\", fontsize = 10)\n",
    "plt.ylabel(\"Precision and Recall\", fontsize = 10)\n",
    "plt.legend((\"Precision\", \"Recall\", \"F1 score\"), loc = \"best\")\n",
    "plt.draw()"
   ]
  },
  {
   "cell_type": "code",
   "execution_count": 53,
   "metadata": {},
   "outputs": [
    {
     "data": {
      "image/png": "[encoded data removed]",
      "text/plain": [
       "<Figure size 1000x1000 with 1 Axes>"
      ]
     },
     "metadata": {},
     "output_type": "display_data"
    }
   ],
   "source": [
    "# Get data\n",
    "x = metrics['recall']\n",
    "y = metrics['precision']\n",
    "\n",
    "# Create scatter plot with the precision and recall results\n",
    "fig, ax2 = plt.subplots(figsize = (10, 10))\n",
    "\n",
    "# Create 2D scatter plot\n",
    "sns.regplot(ax = ax2, x = x, y = y, fit_reg = False, marker = \"o\", color = \"#1f77b4\", scatter_kws = {\"s\": 30})\n",
    "\n",
    "# Plot setup\n",
    "ax2.set_title(\"Precision vs Recall\", fontsize = 12)\n",
    "ax2.set_xlabel(\"Recall\", fontsize = 10)\n",
    "ax2.set_ylabel(\"Precision\", fontsize = 10)\n",
    "ax2.grid()"
   ]
  },
  {
   "cell_type": "code",
   "execution_count": null,
   "metadata": {},
   "outputs": [],
   "source": []
  }
 ],
 "metadata": {
  "kernelspec": {
   "display_name": "CSE156",
   "language": "python",
   "name": "python3"
  },
  "language_info": {
   "codemirror_mode": {
    "name": "ipython",
    "version": 3
   },
   "file_extension": ".py",
   "mimetype": "text/x-python",
   "name": "python",
   "nbconvert_exporter": "python",
   "pygments_lexer": "ipython3",
   "version": "3.12.7"
  }
 },
 "nbformat": 4,
 "nbformat_minor": 2
}
